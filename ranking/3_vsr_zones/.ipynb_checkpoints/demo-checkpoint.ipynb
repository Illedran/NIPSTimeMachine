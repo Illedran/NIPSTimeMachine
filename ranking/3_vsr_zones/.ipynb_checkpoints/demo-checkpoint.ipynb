{
 "cells": [
  {
   "cell_type": "code",
   "execution_count": 7,
   "metadata": {
    "collapsed": true
   },
   "outputs": [],
   "source": [
    "import numpy as np\n",
    "import pandas as pd\n",
    "from tqdm import tqdm\n",
    "from sqlite3 import connect"
   ]
  },
  {
   "cell_type": "code",
   "execution_count": 3,
   "metadata": {},
   "outputs": [],
   "source": [
    "con = connect('../data/nips-papers/database.sqlite')"
   ]
  },
  {
   "cell_type": "code",
   "execution_count": 4,
   "metadata": {
    "collapsed": true
   },
   "outputs": [],
   "source": [
    "texts = [x[0] for x in con.execute('select paper_text from papers;').fetchall()]\n",
    "titles = [x[0] for x in con.execute('select title from papers;').fetchall()]\n",
    "years = con.execute('select year from papers;').fetchall()"
   ]
  },
  {
   "cell_type": "code",
   "execution_count": 5,
   "metadata": {
    "collapsed": true
   },
   "outputs": [],
   "source": [
    "from preprocessing import Preprocessor"
   ]
  },
  {
   "cell_type": "code",
   "execution_count": 8,
   "metadata": {},
   "outputs": [
    {
     "name": "stderr",
     "output_type": "stream",
     "text": [
      "100%|██████████████████████████████████████████████████████████████████████████████| 6560/6560 [08:54<00:00, 12.26it/s]\n"
     ]
    }
   ],
   "source": [
    "prepr = Preprocessor()\n",
    "texts_t = [prepr.process(text) for text in tqdm(texts)]"
   ]
  },
  {
   "cell_type": "code",
   "execution_count": 9,
   "metadata": {},
   "outputs": [
    {
     "name": "stderr",
     "output_type": "stream",
     "text": [
      "100%|████████████████████████████████████████████████████████████████████████████| 6560/6560 [00:01<00:00, 4419.19it/s]\n"
     ]
    }
   ],
   "source": [
    "titles_t = [prepr.process(title) for title in tqdm(titles)]"
   ]
  },
  {
   "cell_type": "code",
   "execution_count": 15,
   "metadata": {},
   "outputs": [],
   "source": [
    "from importlib import reload\n",
    "import ranking\n",
    "reload(ranking)\n",
    "from ranking import BasicVSRanker, EnsembleRanker"
   ]
  },
  {
   "cell_type": "code",
   "execution_count": 16,
   "metadata": {
    "collapsed": true
   },
   "outputs": [],
   "source": [
    "text_r = BasicVSRanker.from_tokenized(texts_t)\n",
    "title_r = BasicVSRanker.from_tokenized(titles_t)"
   ]
  },
  {
   "cell_type": "code",
   "execution_count": 29,
   "metadata": {},
   "outputs": [],
   "source": [
    "ranker = EnsembleRanker()\n",
    "ranker.add_ranker(text_r, 0.9)\n",
    "ranker.add_ranker(title_r, 0.1)"
   ]
  },
  {
   "cell_type": "code",
   "execution_count": 30,
   "metadata": {},
   "outputs": [
    {
     "name": "stdout",
     "output_type": "stream",
     "text": [
      "(2014,) Factoring Variations in Natural Images with Deep Gaussian Mixture Models\n",
      "(2010,) Layer-wise analysis of deep networks with Gaussian kernels\n",
      "(2016,) Deep Learning without Poor Local Minima\n",
      "(2014,) Do Deep Nets Really Need to be Deep?\n",
      "(2016,) A Probabilistic Framework for Deep Learning\n"
     ]
    }
   ],
   "source": [
    "for i in ranker.get_best_matches('deep learning', 5):\n",
    "    print(\"{} {}\".format(years[i], titles[i]))"
   ]
  },
  {
   "cell_type": "code",
   "execution_count": 28,
   "metadata": {},
   "outputs": [
    {
     "name": "stdout",
     "output_type": "stream",
     "text": [
      "(2014,) Do Deep Nets Really Need to be Deep?\n",
      "(2011,) Shallow vs. Deep Sum-Product Networks\n",
      "(2014,) Deep Symmetry Networks\n",
      "(2016,) Learning Deep Parsimonious Representations\n",
      "(2016,) Deep Learning Games\n"
     ]
    }
   ],
   "source": [
    "for i in ranker.get_best_matches('deep learning', 5):\n",
    "    print(\"{} {}\".format(years[i], titles[i]))"
   ]
  },
  {
   "cell_type": "code",
   "execution_count": null,
   "metadata": {
    "collapsed": true
   },
   "outputs": [],
   "source": []
  }
 ],
 "metadata": {
  "kernelspec": {
   "display_name": "Python 3",
   "language": "python",
   "name": "python3"
  },
  "language_info": {
   "codemirror_mode": {
    "name": "ipython",
    "version": 3
   },
   "file_extension": ".py",
   "mimetype": "text/x-python",
   "name": "python",
   "nbconvert_exporter": "python",
   "pygments_lexer": "ipython3",
   "version": "3.6.1"
  }
 },
 "nbformat": 4,
 "nbformat_minor": 2
}
