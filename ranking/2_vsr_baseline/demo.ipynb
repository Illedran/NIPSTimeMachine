{
 "cells": [
  {
   "cell_type": "code",
   "execution_count": 1,
   "metadata": {
    "collapsed": true
   },
   "outputs": [],
   "source": [
    "import numpy as np\n",
    "import nltk\n",
    "import pandas as pd\n",
    "from sqlite3 import connect\n",
    "import matplotlib.pyplot as plt\n",
    "from tqdm import tqdm\n",
    "%matplotlib inline"
   ]
  },
  {
   "cell_type": "markdown",
   "metadata": {},
   "source": [
    "# Vector space ranking demonstration"
   ]
  },
  {
   "cell_type": "markdown",
   "metadata": {},
   "source": [
    "### Fetch data"
   ]
  },
  {
   "cell_type": "code",
   "execution_count": 2,
   "metadata": {
    "collapsed": true
   },
   "outputs": [],
   "source": [
    "con = connect('../data/nips-papers/database.sqlite')"
   ]
  },
  {
   "cell_type": "code",
   "execution_count": 3,
   "metadata": {
    "collapsed": true
   },
   "outputs": [],
   "source": [
    "texts = [x[0] for x in con.execute('select paper_text from papers;').fetchall()]\n",
    "titles = con.execute('select title from papers;').fetchall()\n",
    "years = con.execute('select year from papers;').fetchall()"
   ]
  },
  {
   "cell_type": "markdown",
   "metadata": {},
   "source": [
    "### Proprocess and tokenize texts"
   ]
  },
  {
   "cell_type": "code",
   "execution_count": 20,
   "metadata": {},
   "outputs": [],
   "source": [
    "from preprocessing import Preprocessor"
   ]
  },
  {
   "cell_type": "code",
   "execution_count": 21,
   "metadata": {
    "scrolled": false
   },
   "outputs": [
    {
     "name": "stderr",
     "output_type": "stream",
     "text": [
      "100%|██████████████████████████████████████████████████████████████████████████████| 6560/6560 [09:02<00:00, 10.45it/s]\n"
     ]
    }
   ],
   "source": [
    "prepr = Preprocessor()\n",
    "tokenized = [prepr.process(text) for text in tqdm(texts)]"
   ]
  },
  {
   "cell_type": "markdown",
   "metadata": {},
   "source": [
    "### Build ranker"
   ]
  },
  {
   "cell_type": "code",
   "execution_count": 34,
   "metadata": {
    "collapsed": true
   },
   "outputs": [],
   "source": [
    "from ranking import BasicVSRanker"
   ]
  },
  {
   "cell_type": "code",
   "execution_count": 35,
   "metadata": {},
   "outputs": [],
   "source": [
    "ranker = BasicVSRanker.from_tokenized(tokenized)"
   ]
  },
  {
   "cell_type": "markdown",
   "metadata": {},
   "source": [
    "### Example query processing"
   ]
  },
  {
   "cell_type": "code",
   "execution_count": 24,
   "metadata": {},
   "outputs": [
    {
     "name": "stdout",
     "output_type": "stream",
     "text": [
      "(1993,) ('Complexity Issues in Neural Computation and Learning',)\n",
      "(1989,) ('Analog Neural Networks of Limited Precision I: Computing with Multilinear Threshold Functions',)\n",
      "(2016,) ('Neural Universal Discrete Denoiser',)\n",
      "(2015,) ('Convolutional Networks on Graphs for Learning Molecular Fingerprints',)\n",
      "(1996,) ('A New Approach to Hybrid HMM/ANN Speech Recognition using Mutual Information Neural Networks',)\n"
     ]
    }
   ],
   "source": [
    "for i in ranker.best_n_matches('neural networks', 5):\n",
    "    print(\"{} {}\".format(years[i], titles[i]))"
   ]
  },
  {
   "cell_type": "code",
   "execution_count": 25,
   "metadata": {},
   "outputs": [
    {
     "name": "stdout",
     "output_type": "stream",
     "text": [
      "(1998,) ('Exploratory Data Analysis Using Radial Basis Function Latent Variable Models',)\n",
      "(2014,) ('Latent Support Measure Machines for Bag-of-Words Data Classification',)\n",
      "(2016,) ('Multi-view Anomaly Detection via Robust Probabilistic Latent Variable Models',)\n",
      "(2013,) ('Discovering Hidden Variables in Noisy-Or Networks using Quartet Tests',)\n",
      "(2012,) ('Learning the Dependency Structure of Latent Factors',)\n"
     ]
    }
   ],
   "source": [
    "for i in ranker.best_n_matches('latent models', 5):\n",
    "    print(\"{} {}\".format(years[i], titles[i]))"
   ]
  },
  {
   "cell_type": "code",
   "execution_count": 26,
   "metadata": {},
   "outputs": [
    {
     "name": "stdout",
     "output_type": "stream",
     "text": [
      "(1998,) ('Bayesian PCA',)\n",
      "(2013,) ('Faster Ridge Regression via the Subsampled Randomized Hadamard Transform',)\n",
      "(2013,) ('Robust Transfer Principal Component Analysis with Rank Constraints',)\n",
      "(2006,) ('Nonnegative Sparse PCA',)\n",
      "(2012,) ('Semiparametric Principal Component Analysis',)\n"
     ]
    }
   ],
   "source": [
    "for i in ranker.best_n_matches('pca', 5):\n",
    "    print(\"{} {}\".format(years[i], titles[i]))"
   ]
  },
  {
   "cell_type": "code",
   "execution_count": null,
   "metadata": {
    "collapsed": true
   },
   "outputs": [],
   "source": []
  },
  {
   "cell_type": "code",
   "execution_count": null,
   "metadata": {
    "collapsed": true
   },
   "outputs": [],
   "source": []
  }
 ],
 "metadata": {
  "kernelspec": {
   "display_name": "Python 3",
   "language": "python",
   "name": "python3"
  },
  "language_info": {
   "codemirror_mode": {
    "name": "ipython",
    "version": 3
   },
   "file_extension": ".py",
   "mimetype": "text/x-python",
   "name": "python",
   "nbconvert_exporter": "python",
   "pygments_lexer": "ipython3",
   "version": "3.6.1"
  }
 },
 "nbformat": 4,
 "nbformat_minor": 2
}
