{
 "cells": [
  {
   "cell_type": "code",
   "execution_count": 1,
   "metadata": {
    "collapsed": true
   },
   "outputs": [],
   "source": [
    "import numpy as np\n",
    "import nltk\n",
    "import pandas as pd\n",
    "from sqlite3 import connect\n",
    "import matplotlib.pyplot as plt\n",
    "from tqdm import tqdm\n",
    "%matplotlib inline"
   ]
  },
  {
   "cell_type": "markdown",
   "metadata": {},
   "source": [
    "# Vector space ranking demonstration"
   ]
  },
  {
   "cell_type": "markdown",
   "metadata": {},
   "source": [
    "### Fetch data"
   ]
  },
  {
   "cell_type": "code",
   "execution_count": 2,
   "metadata": {
    "collapsed": true
   },
   "outputs": [],
   "source": [
    "con = connect('../data/nips-papers/database.sqlite')"
   ]
  },
  {
   "cell_type": "code",
   "execution_count": 15,
   "metadata": {},
   "outputs": [
    {
     "name": "stderr",
     "output_type": "stream",
     "text": [
      "\n"
     ]
    }
   ],
   "source": [
    "texts = [x[0] for x in con.execute('select paper_text from papers;').fetchall()]\n",
    "titles = [x[0] for x in con.execute('select title from papers;').fetchall()]\n",
    "years = con.execute('select year from papers;').fetchall()"
   ]
  },
  {
   "cell_type": "markdown",
   "metadata": {},
   "source": [
    "### Proprocess and tokenize texts"
   ]
  },
  {
   "cell_type": "code",
   "execution_count": 4,
   "metadata": {
    "collapsed": true
   },
   "outputs": [],
   "source": [
    "from preprocessing import Preprocessor"
   ]
  },
  {
   "cell_type": "code",
   "execution_count": 5,
   "metadata": {
    "scrolled": false
   },
   "outputs": [
    {
     "name": "stderr",
     "output_type": "stream",
     "text": [
      "100%|██████████████████████████████████████████████████████████████████████████████| 6560/6560 [08:44<00:00, 10.15it/s]\n"
     ]
    }
   ],
   "source": [
    "prepr = Preprocessor()\n",
    "tokenized = [prepr.process(text) for text in tqdm(texts)]"
   ]
  },
  {
   "cell_type": "markdown",
   "metadata": {},
   "source": [
    "### Build ranker"
   ]
  },
  {
   "cell_type": "code",
   "execution_count": 105,
   "metadata": {
    "collapsed": true
   },
   "outputs": [],
   "source": [
    "from importlib import reload\n",
    "import ranking\n",
    "reload(ranking)\n",
    "from ranking import BasicVSRanker"
   ]
  },
  {
   "cell_type": "code",
   "execution_count": 106,
   "metadata": {
    "collapsed": true
   },
   "outputs": [],
   "source": [
    "ranker = BasicVSRanker.from_tokenized(tokenized)"
   ]
  },
  {
   "cell_type": "markdown",
   "metadata": {},
   "source": [
    "### Example query processing"
   ]
  },
  {
   "cell_type": "code",
   "execution_count": 107,
   "metadata": {},
   "outputs": [
    {
     "name": "stdout",
     "output_type": "stream",
     "text": [
      "(1989,) A Large-Scale Neural Network Which Recognizes Handwritten Kanji Characters\n",
      "(1989,) Analog Neural Networks of Limited Precision I: Computing with Multilinear Threshold Functions\n",
      "(1989,) Designing Application-Specific Neural Networks Using the Genetic Algorithm\n",
      "(1991,) Refining PID Controllers using Neural Networks\n",
      "(1994,) An experimental comparison of recurrent neural networks\n"
     ]
    }
   ],
   "source": [
    "for i in ranker.get_best_matches('neural networks', 5):\n",
    "    print(\"{} {}\".format(years[i], titles[i]))"
   ]
  },
  {
   "cell_type": "code",
   "execution_count": 108,
   "metadata": {},
   "outputs": [
    {
     "name": "stdout",
     "output_type": "stream",
     "text": [
      "(2010,) Layer-wise analysis of deep networks with Gaussian kernels\n",
      "(2014,) Factoring Variations in Natural Images with Deep Gaussian Mixture Models\n",
      "(2016,) Deep Learning without Poor Local Minima\n",
      "(2014,) Searching for Higgs Boson Decay Modes with Deep Learning\n",
      "(2015,) Training Very Deep Networks\n"
     ]
    }
   ],
   "source": [
    "for i in ranker.get_best_matches('neural networks deep learning', 5):\n",
    "    print(\"{} {}\".format(years[i], titles[i]))"
   ]
  },
  {
   "cell_type": "code",
   "execution_count": 109,
   "metadata": {},
   "outputs": [
    {
     "name": "stdout",
     "output_type": "stream",
     "text": [
      "(1998,) Bayesian PCA\n",
      "(2013,) Faster Ridge Regression via the Subsampled Randomized Hadamard Transform\n",
      "(2013,) Robust Transfer Principal Component Analysis with Rank Constraints\n",
      "(2006,) Nonnegative Sparse PCA\n",
      "(2012,) Semiparametric Principal Component Analysis\n"
     ]
    }
   ],
   "source": [
    "for i in ranker.get_best_matches('pca', 5):\n",
    "    print(\"{} {}\".format(years[i], titles[i]))"
   ]
  },
  {
   "cell_type": "code",
   "execution_count": null,
   "metadata": {
    "collapsed": true
   },
   "outputs": [],
   "source": []
  },
  {
   "cell_type": "markdown",
   "metadata": {
    "collapsed": true
   },
   "source": [
    "### Ranking based on document body and title example"
   ]
  },
  {
   "cell_type": "code",
   "execution_count": 47,
   "metadata": {
    "scrolled": true
   },
   "outputs": [
    {
     "name": "stderr",
     "output_type": "stream",
     "text": [
      "\n",
      "\n",
      "  0%|                                                                                         | 0/6560 [00:00<?, ?it/s]\n",
      "\n",
      "  6%|████▍                                                                        | 374/6560 [00:00<00:01, 3730.09it/s]\n",
      "\n",
      " 12%|█████████▏                                                                   | 784/6560 [00:00<00:01, 3830.98it/s]\n",
      "\n",
      " 18%|█████████████▉                                                              | 1205/6560 [00:00<00:01, 3934.39it/s]\n",
      "\n",
      " 25%|██████████████████▉                                                         | 1637/6560 [00:00<00:01, 4039.39it/s]\n",
      "\n",
      " 32%|████████████████████████▍                                                   | 2105/6560 [00:00<00:01, 4209.56it/s]\n",
      "\n",
      " 39%|█████████████████████████████▋                                              | 2563/6560 [00:00<00:00, 4311.01it/s]\n",
      "\n",
      " 46%|██████████████████████████████████▉                                         | 3011/6560 [00:00<00:00, 4356.97it/s]\n",
      "\n",
      " 53%|████████████████████████████████████████                                    | 3454/6560 [00:00<00:00, 4378.09it/s]\n",
      "\n",
      " 59%|████████████████████████████████████████████▉                               | 3877/6560 [00:00<00:00, 4329.14it/s]\n",
      "\n",
      " 66%|█████████████████████████████████████████████████▉                          | 4305/6560 [00:01<00:00, 4310.80it/s]\n",
      "\n",
      " 72%|██████████████████████████████████████████████████████▊                     | 4727/6560 [00:01<00:00, 4202.76it/s]\n",
      "\n",
      " 78%|███████████████████████████████████████████████████████████▌                | 5142/6560 [00:01<00:00, 4157.82it/s]\n",
      "\n",
      " 85%|████████████████████████████████████████████████████████████████▎           | 5556/6560 [00:01<00:00, 4149.13it/s]\n",
      "\n",
      " 91%|█████████████████████████████████████████████████████████████████████▎      | 5979/6560 [00:01<00:00, 4170.11it/s]\n",
      "\n",
      " 97%|██████████████████████████████████████████████████████████████████████████  | 6394/6560 [00:01<00:00, 4135.83it/s]\n",
      "\n",
      "100%|████████████████████████████████████████████████████████████████████████████| 6560/6560 [00:01<00:00, 4201.23it/s]"
     ]
    }
   ],
   "source": [
    "tokenized_titles = [prepr.process(title) for title in tqdm(titles)]"
   ]
  },
  {
   "cell_type": "code",
   "execution_count": 110,
   "metadata": {
    "collapsed": true
   },
   "outputs": [],
   "source": [
    "title_ranker = BasicVSRanker.from_tokenized(tokenized_titles)"
   ]
  },
  {
   "cell_type": "code",
   "execution_count": 111,
   "metadata": {},
   "outputs": [],
   "source": [
    "def joint_best_matches(query, body_ranker, title_ranker, alpha=0.5, n=10):\n",
    "    scores = (body_ranker.get_scores(query) * alpha +\n",
    "              title_ranker.get_scores(query) * (1 - alpha))\n",
    "    return np.argsort(-scores).flatten()[:n]"
   ]
  },
  {
   "cell_type": "code",
   "execution_count": null,
   "metadata": {
    "collapsed": true
   },
   "outputs": [],
   "source": []
  },
  {
   "cell_type": "code",
   "execution_count": 116,
   "metadata": {},
   "outputs": [
    {
     "name": "stdout",
     "output_type": "stream",
     "text": [
      "(2011,) Shallow vs. Deep Sum-Product Networks\n",
      "(2015,) Path-SGD: Path-Normalized Optimization in Deep Neural Networks\n",
      "(2014,) Deep Symmetry Networks\n",
      "(2015,) Training Very Deep Networks\n",
      "(2016,) Deep Neural Networks with Inexact Matching for Person Re-Identification\n"
     ]
    }
   ],
   "source": [
    "for i in joint_best_matches(\"neural networks and deep learning\", ranker, title_ranker, n=5, alpha=0.3):\n",
    "    print(\"{} {}\".format(years[i], titles[i]))"
   ]
  },
  {
   "cell_type": "code",
   "execution_count": null,
   "metadata": {
    "collapsed": true
   },
   "outputs": [],
   "source": []
  }
 ],
 "metadata": {
  "kernelspec": {
   "display_name": "Python 3",
   "language": "python",
   "name": "python3"
  },
  "language_info": {
   "codemirror_mode": {
    "name": "ipython",
    "version": 3
   },
   "file_extension": ".py",
   "mimetype": "text/x-python",
   "name": "python",
   "nbconvert_exporter": "python",
   "pygments_lexer": "ipython3",
   "version": "3.6.1"
  }
 },
 "nbformat": 4,
 "nbformat_minor": 2
}
