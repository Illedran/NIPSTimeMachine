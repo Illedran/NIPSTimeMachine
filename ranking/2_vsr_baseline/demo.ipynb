{
 "cells": [
  {
   "cell_type": "code",
   "execution_count": 1,
   "metadata": {
    "collapsed": true
   },
   "outputs": [],
   "source": [
    "import numpy as np\n",
    "import nltk\n",
    "import pandas as pd\n",
    "from sqlite3 import connect\n",
    "import matplotlib.pyplot as plt\n",
    "from tqdm import tqdm\n",
    "%matplotlib inline"
   ]
  },
  {
   "cell_type": "code",
   "execution_count": 2,
   "metadata": {
    "collapsed": true
   },
   "outputs": [],
   "source": [
    "con = connect('../data/nips-papers/database.sqlite')"
   ]
  },
  {
   "cell_type": "code",
   "execution_count": 3,
   "metadata": {
    "collapsed": true
   },
   "outputs": [],
   "source": [
    "texts = [x[0] for x in con.execute('select paper_text from papers;').fetchall()]\n",
    "titles = con.execute('select title from papers;').fetchall()\n",
    "years = con.execute('select year from papers;').fetchall()"
   ]
  },
  {
   "cell_type": "code",
   "execution_count": 8,
   "metadata": {
    "collapsed": true
   },
   "outputs": [],
   "source": [
    "from importlib import reload"
   ]
  },
  {
   "cell_type": "code",
   "execution_count": 30,
   "metadata": {},
   "outputs": [
    {
     "data": {
      "text/plain": [
       "<module 'ranking' from 'C:\\\\Data\\\\Master\\\\WebInfoRetr-2IMM15\\\\NIPSTimeMachine\\\\ranking\\\\2_vsr_baseline\\\\ranking.py'>"
      ]
     },
     "execution_count": 30,
     "metadata": {},
     "output_type": "execute_result"
    }
   ],
   "source": [
    "reload(ranking)"
   ]
  },
  {
   "cell_type": "code",
   "execution_count": 31,
   "metadata": {},
   "outputs": [],
   "source": [
    "from preprocessing import Preprocessor\n",
    "import ranking"
   ]
  },
  {
   "cell_type": "code",
   "execution_count": 5,
   "metadata": {
    "scrolled": false
   },
   "outputs": [
    {
     "name": "stderr",
     "output_type": "stream",
     "text": [
      "100%|██████████████████████████████████████████████████████████████████████████████| 6560/6560 [08:40<00:00, 10.21it/s]\n"
     ]
    }
   ],
   "source": [
    "prepr = Preprocessor()\n",
    "tokenized = [prepr.process(text) for text in tqdm(texts)]"
   ]
  },
  {
   "cell_type": "code",
   "execution_count": 32,
   "metadata": {
    "collapsed": true
   },
   "outputs": [],
   "source": [
    "ranker = ranking.BasicVSRanker.from_tokenized(tokenized)"
   ]
  },
  {
   "cell_type": "code",
   "execution_count": 35,
   "metadata": {},
   "outputs": [
    {
     "data": {
      "text/plain": [
       "[(('Complexity Issues in Neural Computation and Learning',), (1993,)),\n",
       " (('Analog Neural Networks of Limited Precision I: Computing with Multilinear Threshold Functions',),\n",
       "  (1989,)),\n",
       " (('Neural Universal Discrete Denoiser',), (2016,)),\n",
       " (('Convolutional Networks on Graphs for Learning Molecular Fingerprints',),\n",
       "  (2015,)),\n",
       " (('A New Approach to Hybrid HMM/ANN Speech Recognition using Mutual Information Neural Networks',),\n",
       "  (1996,))]"
      ]
     },
     "execution_count": 35,
     "metadata": {},
     "output_type": "execute_result"
    }
   ],
   "source": [
    "[(titles[i], years[i]) for i in ranker.best_n_matches('neural networks', 5)]"
   ]
  },
  {
   "cell_type": "code",
   "execution_count": 36,
   "metadata": {},
   "outputs": [
    {
     "data": {
      "text/plain": [
       "[(('Exploratory Data Analysis Using Radial Basis Function Latent Variable Models',),\n",
       "  (1998,)),\n",
       " (('Latent Support Measure Machines for Bag-of-Words Data Classification',),\n",
       "  (2014,)),\n",
       " (('Multi-view Anomaly Detection via Robust Probabilistic Latent Variable Models',),\n",
       "  (2016,)),\n",
       " (('Discovering Hidden Variables in Noisy-Or Networks using Quartet Tests',),\n",
       "  (2013,)),\n",
       " (('Learning the Dependency Structure of Latent Factors',), (2012,))]"
      ]
     },
     "execution_count": 36,
     "metadata": {},
     "output_type": "execute_result"
    }
   ],
   "source": [
    "[(titles[i], years[i]) for i in ranker.best_n_matches('latent models', 5)]"
   ]
  },
  {
   "cell_type": "code",
   "execution_count": null,
   "metadata": {
    "collapsed": true
   },
   "outputs": [],
   "source": []
  }
 ],
 "metadata": {
  "kernelspec": {
   "display_name": "Python 3",
   "language": "python",
   "name": "python3"
  },
  "language_info": {
   "codemirror_mode": {
    "name": "ipython",
    "version": 3
   },
   "file_extension": ".py",
   "mimetype": "text/x-python",
   "name": "python",
   "nbconvert_exporter": "python",
   "pygments_lexer": "ipython3",
   "version": "3.6.1"
  }
 },
 "nbformat": 4,
 "nbformat_minor": 2
}
