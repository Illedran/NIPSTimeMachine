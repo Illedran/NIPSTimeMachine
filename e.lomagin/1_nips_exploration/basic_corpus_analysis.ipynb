{
 "cells": [
  {
   "cell_type": "code",
   "execution_count": 17,
   "metadata": {},
   "outputs": [],
   "source": [
    "import numpy as np\n",
    "import pandas as pd\n",
    "import matplotlib.pyplot as plt\n",
    "from sqlite3 import connect\n",
    "import nltk\n",
    "from tqdm import tqdm\n",
    "%matplotlib inline"
   ]
  },
  {
   "cell_type": "code",
   "execution_count": 2,
   "metadata": {
    "collapsed": true
   },
   "outputs": [],
   "source": [
    "con = connect('../data/nips-papers/database.sqlite')"
   ]
  },
  {
   "cell_type": "code",
   "execution_count": 56,
   "metadata": {},
   "outputs": [],
   "source": [
    "titles = [x[0] for x in con.execute('select title from papers;').fetchall()]\n",
    "texts = [x[0] for x in con.execute('select paper_text from papers;').fetchall()]"
   ]
  },
  {
   "cell_type": "markdown",
   "metadata": {},
   "source": [
    "## Vocabulary analysis"
   ]
  },
  {
   "cell_type": "code",
   "execution_count": 18,
   "metadata": {
    "collapsed": true
   },
   "outputs": [],
   "source": [
    "from collections import Counter"
   ]
  },
  {
   "cell_type": "code",
   "execution_count": 19,
   "metadata": {},
   "outputs": [
    {
     "name": "stderr",
     "output_type": "stream",
     "text": [
      "100%|██████████████████████████████████████████████████████████████████████████████| 6560/6560 [05:23<00:00, 15.91it/s]\n"
     ]
    }
   ],
   "source": [
    "counter = Counter()\n",
    "for text in tqdm(texts):\n",
    "    counter.update(nltk.word_tokenize(text))"
   ]
  },
  {
   "cell_type": "markdown",
   "metadata": {},
   "source": [
    "**Top 10 tokens without filtration**"
   ]
  },
  {
   "cell_type": "code",
   "execution_count": 35,
   "metadata": {},
   "outputs": [
    {
     "data": {
      "text/plain": [
       "[(',', 1960823),\n",
       " ('.', 1621878),\n",
       " ('?', 1582064),\n",
       " ('the', 1549429),\n",
       " (')', 1047467),\n",
       " ('(', 1043377),\n",
       " ('of', 884950),\n",
       " ('and', 645434),\n",
       " ('a', 556237),\n",
       " ('to', 499428)]"
      ]
     },
     "execution_count": 35,
     "metadata": {},
     "output_type": "execute_result"
    }
   ],
   "source": [
    "counter.most_common(10)"
   ]
  },
  {
   "cell_type": "markdown",
   "metadata": {},
   "source": [
    "**Top 10 tokens with length greater than 3**"
   ]
  },
  {
   "cell_type": "code",
   "execution_count": 48,
   "metadata": {},
   "outputs": [],
   "source": [
    "words = counter.keys()\n",
    "long_words = [w for w in words if len(w) > 3]\n",
    "long_counter = Counter({k : counter[k] for k in long_words})"
   ]
  },
  {
   "cell_type": "code",
   "execution_count": 49,
   "metadata": {},
   "outputs": [
    {
     "data": {
      "text/plain": [
       "[('that', 262310),\n",
       " ('with', 196797),\n",
       " ('this', 114787),\n",
       " ('from', 107193),\n",
       " ('which', 95450),\n",
       " ('model', 85740),\n",
       " ('data', 76713),\n",
       " ('each', 70440),\n",
       " ('where', 68034),\n",
       " ('learning', 65504)]"
      ]
     },
     "execution_count": 49,
     "metadata": {},
     "output_type": "execute_result"
    }
   ],
   "source": [
    "long_counter.most_common(10)"
   ]
  },
  {
   "cell_type": "markdown",
   "metadata": {},
   "source": [
    "**Top 10 tokens with length greater than 3 and without stopwords**"
   ]
  },
  {
   "cell_type": "code",
   "execution_count": 50,
   "metadata": {},
   "outputs": [],
   "source": [
    "stop_words = set(nltk.corpus.stopwords.words('english'))\n",
    "good_words = [w for w in words if len(w) > 3 and not w in stop_words]\n",
    "good_counter = Counter({k : counter[k] for k in good_words})"
   ]
  },
  {
   "cell_type": "code",
   "execution_count": 51,
   "metadata": {},
   "outputs": [
    {
     "data": {
      "text/plain": [
       "[('model', 85740),\n",
       " ('data', 76713),\n",
       " ('learning', 65504),\n",
       " ('algorithm', 61377),\n",
       " ('function', 59779),\n",
       " ('This', 53537),\n",
       " ('using', 53371),\n",
       " ('number', 45582),\n",
       " ('problem', 44104),\n",
       " ('Figure', 42905)]"
      ]
     },
     "execution_count": 51,
     "metadata": {},
     "output_type": "execute_result"
    }
   ],
   "source": [
    "good_counter.most_common(10)"
   ]
  },
  {
   "cell_type": "markdown",
   "metadata": {},
   "source": [
    "## Redo with better word filtering"
   ]
  },
  {
   "cell_type": "code",
   "execution_count": null,
   "metadata": {
    "collapsed": true
   },
   "outputs": [],
   "source": [
    "stop_words = set(nltk.corpus.stopwords.words('english'))\n",
    "def good_token(t):\n",
    "    return len(t) > 3 and not t in stop_words\n",
    "    "
   ]
  },
  {
   "cell_type": "code",
   "execution_count": 65,
   "metadata": {},
   "outputs": [
    {
     "name": "stderr",
     "output_type": "stream",
     "text": [
      "100%|██████████████████████████████████████████████████████████████████████████████| 6560/6560 [05:36<00:00, 14.38it/s]\n"
     ]
    }
   ],
   "source": [
    "counter = Counter()\n",
    "for text in tqdm(texts):\n",
    "    tokens = [t.lower() for t in nltk.word_tokenize(text) if good_token(t)]\n",
    "    counter.update(tokens)"
   ]
  },
  {
   "cell_type": "code",
   "execution_count": 67,
   "metadata": {},
   "outputs": [
    {
     "data": {
      "text/plain": [
       "[('model', 91029),\n",
       " ('learning', 88581),\n",
       " ('data', 81327),\n",
       " ('algorithm', 71782),\n",
       " ('function', 60905),\n",
       " ('using', 59934),\n",
       " ('this', 53555),\n",
       " ('figure', 47961),\n",
       " ('number', 47635),\n",
       " ('problem', 46030),\n",
       " ('time', 45923),\n",
       " ('models', 42095),\n",
       " ('given', 40885),\n",
       " ('used', 40796),\n",
       " ('also', 40685),\n",
       " ('results', 40490),\n",
       " ('training', 39737),\n",
       " ('distribution', 38948),\n",
       " ('network', 38502),\n",
       " ('matrix', 36978),\n",
       " ('neural', 36735),\n",
       " ('information', 34217),\n",
       " ('first', 33385),\n",
       " ('method', 32634),\n",
       " ('error', 31947),\n",
       " ('different', 31809),\n",
       " ('methods', 30139),\n",
       " ('probability', 30086),\n",
       " ('input', 29678),\n",
       " ('case', 28982),\n",
       " ('algorithms', 28887),\n",
       " ('linear', 28605),\n",
       " ('performance', 28062),\n",
       " ('approach', 27340),\n",
       " ('parameters', 26712),\n",
       " ('space', 26327),\n",
       " ('networks', 26246),\n",
       " ('random', 25643),\n",
       " ('section', 25320),\n",
       " ('image', 25260),\n",
       " ('state', 25024),\n",
       " ('based', 24975),\n",
       " ('however', 24220),\n",
       " ('vector', 24214),\n",
       " ('value', 24071),\n",
       " ('functions', 24059),\n",
       " ('analysis', 23519),\n",
       " ('following', 23305),\n",
       " ('show', 23008),\n",
       " ('large', 22901),\n",
       " ('features', 22859),\n",
       " ('example', 22599),\n",
       " ('since', 22429),\n",
       " ('optimal', 21884),\n",
       " ('theorem', 21510),\n",
       " ('work', 21278),\n",
       " ('gaussian', 21160),\n",
       " ('bound', 20998),\n",
       " ('kernel', 20944),\n",
       " ('feature', 20810),\n",
       " ('shown', 20476),\n",
       " ('values', 20181),\n",
       " ('optimization', 20179),\n",
       " ('variables', 19636),\n",
       " ('thus', 19597),\n",
       " ('test', 19394),\n",
       " ('classification', 19333),\n",
       " ('points', 18995),\n",
       " ('output', 18971),\n",
       " ('size', 18920),\n",
       " ('order', 18871),\n",
       " ('note', 18806),\n",
       " ('paper', 18582),\n",
       " ('consider', 18477),\n",
       " ('point', 18435),\n",
       " ('noise', 18117),\n",
       " ('system', 17865),\n",
       " ('rate', 17851),\n",
       " ('machine', 17840),\n",
       " ('loss', 17784),\n",
       " ('problems', 17758),\n",
       " ('sample', 17653),\n",
       " ('experiments', 17425),\n",
       " ('parameter', 17413),\n",
       " ('well', 17270),\n",
       " ('structure', 17138),\n",
       " ('class', 17092),\n",
       " ('process', 16985),\n",
       " ('inference', 16941),\n",
       " ('systems', 16925),\n",
       " ('local', 16861),\n",
       " ('images', 16781),\n",
       " ('many', 16595),\n",
       " ('shows', 16469),\n",
       " ('approximation', 16452),\n",
       " ('graph', 16450),\n",
       " ('small', 16399),\n",
       " ('mean', 16344),\n",
       " ('form', 16338),\n",
       " ('similar', 16164)]"
      ]
     },
     "execution_count": 67,
     "metadata": {},
     "output_type": "execute_result"
    }
   ],
   "source": [
    "counter.most_common(100)"
   ]
  },
  {
   "cell_type": "code",
   "execution_count": null,
   "metadata": {
    "collapsed": true
   },
   "outputs": [],
   "source": []
  }
 ],
 "metadata": {
  "kernelspec": {
   "display_name": "Python 3",
   "language": "python",
   "name": "python3"
  },
  "language_info": {
   "codemirror_mode": {
    "name": "ipython",
    "version": 3
   },
   "file_extension": ".py",
   "mimetype": "text/x-python",
   "name": "python",
   "nbconvert_exporter": "python",
   "pygments_lexer": "ipython3",
   "version": "3.6.1"
  }
 },
 "nbformat": 4,
 "nbformat_minor": 2
}
